{
 "cells": [
  {
   "cell_type": "markdown",
   "id": "4c87e682",
   "metadata": {},
   "source": [
    "<div align=\"middle\">\n",
    "  <h1><b><i>تمرین سوم</i></b></h1>\n",
    " </div>\n",
    "\n",
    "\n"
   ]
  },
  {
   "cell_type": "markdown",
   "id": "d4d72a39",
   "metadata": {},
   "source": [
    "<div align=\"right\" dir=\"auto\">\n",
    "    \n",
    "   #  بخش اول:  هدوپ \n",
    "\n",
    "    ۱- به سوالات زیر پاسخ دهید\n",
    "    - مفهوم replication جیست\n",
    "    - مفهوم block در HDFS چیست و اگر بلاک‌ها را بسیار کوچک درنظر بگیریم چه مشکلی پیش می‌آید\n",
    "    \n",
    "</div>\n",
    "  \n",
    "    "
   ]
  },
  {
   "cell_type": "markdown",
   "id": "bfea8f42",
   "metadata": {},
   "source": [
    "<div align=\"right\" dir=\"auto\">\n",
    "\n",
    "    ۱- اصطلاح Replication به معنی ایجاد کپی‌های داده روی چند datanode است که باعث می‌شود که در صورت بروز مشکل و خرابی داده از دست نرود.\n",
    "        \n",
    "    ۲- واحدهای ذخیرسازی داده در HDFS را بلاک می‌گوند. یک فایل HDFS دنباله‌ای از بلاک‌ها است که در کلاستر چندین سرور ذخیره می‌شود. اندازه بلاک‌ها معمولا ۶۴ مگابایت است. اگر بلاک‌ها را بسیار کوچک در نظر بگیریم، تعداد زیادی بلاک خواهیم داشت و همچنین مقدار زیادی metadata باید ذخیره شود.  و اگر بلاک کوچک باشد باعث می‌شود یک split ورودی نیاز به جا شدن در تعداد زیادی بلاک داشته باشه و به صورت مکرر روی hdfs بنویسیم و برای دسترسی مجدد به  splitورودی باید از تعداد زیادی بلاک بخوانیم و مراجعه زیادی به hdfs داشته باشیم و این باعث می‌شود سرعت‌مان کاهش پیدا کند.\n",
    "</div> \n",
    "\n",
    "\n",
    "<div align=\"right\" dir=\"auto\">"
   ]
  },
  {
   "cell_type": "markdown",
   "id": "84815cdb",
   "metadata": {},
   "source": [
    "<div align=\"right\" dir=\"auto\">\n",
    "   \n",
    "\n",
    "    ۲- در  این قسمت شما باید ابتدا دیتاست داده شده را از حالت فشرده در بیاورید و سپس فایل‌های درون آن را در کلاستر هدوپ در مسیر /homework3/dataset/ بارگزاری کنید \n",
    "    نکته: در این بخش دستورات زده شده خود را برای کار با hdfs  در ترمینال را در سلول زیر وارد نمایید\n",
    "    برای دسترسی به کامند 'hdfs dfs'  میتوانید وارد یکی از کانتینر‌های هدوپ شوید و دستور را اجرا کنید همچنین همه کانتینر‌ها دارای shared_dir\n",
    "    در روت خود هستند و این دایرکتوری در تمام کانتینر‌ها به اشتراک گذاشته شده است\n",
    "    برای چک کردن فایل‌ها در hdfs به \n",
    "    \n",
    "[HDFS webUI](http://localhost:9870/explorer.html#/)\n",
    "    \n",
    "    مراجعه کنید\n",
    " </div>"
   ]
  },
  {
   "cell_type": "markdown",
   "id": "5abbcde0",
   "metadata": {},
   "source": [
    "hdfs dfs -mkdir -p /homework3/dataset/\n",
    "\n",
    "hdfs dfs -put shared_dir/dataset/Weapon.json /homework3/dataset\n",
    "\n",
    "hdfs dfs -put shared_dir/dataset/War.json /homework3/dataset"
   ]
  },
  {
   "cell_type": "markdown",
   "id": "da40327e",
   "metadata": {},
   "source": [
    "<div align=\"right\" dir=\"auto\">\n",
    "    \n",
    "   #  بخش دوم:  اسپارک \n",
    "\n",
    "    ۱- به سوالات زیر پاسخ دهید\n",
    "    - مزیت اسپارک نسبت به مدل قدیمی map/reduce چیست؟\n",
    "    -  تفاوت action و transform در اسپارک چیست؟\n",
    "    \n",
    "</div>\n",
    "  \n",
    "    "
   ]
  },
  {
   "cell_type": "markdown",
   "id": "7b32f2e8",
   "metadata": {},
   "source": [
    "<div align=\"right\" dir=\"auto\">\n",
    "\n",
    "    ۱- در معماری map reduce خروجی نتایج map را روی disk می‌نویسیم ولی در spark نتایج میانی را در ram می‌نویسیم که می‌شود سرعت بالاتری داشته باشیم و همچنین اگر در مراحل میانی به failure بخوریم با بازگشت به یه مرحله قبل کار را ادامه دهیم و متوجه شویم مشکل از کجا است.\n",
    "    \n",
    "\n",
    "        \n",
    "    ۲- عملیات RDD به دو دسته transformation  و action تقسیم می‌شود. در transformation خروجی یک RDD است اما در action خروجی یک مقدار است. عملیاتی مانند map و فیلتر جزو transformation هستند و عملیاتی مانند reduce و count جزو action است.\n",
    "</div> \n",
    "\n",
    "\n",
    "<div align=\"right\" dir=\"auto\">"
   ]
  },
  {
   "cell_type": "markdown",
   "id": "96bbeeff",
   "metadata": {},
   "source": [
    "<div align=\"right\" dir=\"auto\">\n",
    "    \n",
    "\n",
    "    ۲- کد‌های خواسته شده در قسمت‌های پایینی را تکمیل کنید\n",
    "    (قسمت های ToDo )\n",
    "</div>\n",
    "  \n",
    "    "
   ]
  },
  {
   "cell_type": "markdown",
   "id": "1e4b6823",
   "metadata": {},
   "source": [
    "\n",
    "<div align=\"right\" dir=\"auto\">\n",
    "   \n",
    "##  اتصال به کلاستر اسپارک و هدوپ \n",
    "\n",
    "    در این قسمت از تمرین باید به عنوان درایور یک سسشن  به کلاستر اسپارک بسازیم.\n",
    " </div>\n",
    "  \n",
    "    "
   ]
  },
  {
   "cell_type": "code",
   "execution_count": 1,
   "id": "03ff9bf9",
   "metadata": {},
   "outputs": [],
   "source": [
    "import pyspark\n",
    "from pyspark import SparkContext \n",
    "from pyspark.sql import SparkSession,Row\n",
    "from pyspark.sql.functions import *\n",
    "import math\n",
    "import pandas , numpy\n",
    "import matplotlib\n",
    "import pprint\n",
    "    \n"
   ]
  },
  {
   "cell_type": "code",
   "execution_count": 3,
   "id": "f1c85a8d",
   "metadata": {},
   "outputs": [
    {
     "data": {
      "text/html": [
       "\n",
       "            <div>\n",
       "                <p><b>SparkSession - in-memory</b></p>\n",
       "                \n",
       "        <div>\n",
       "            <p><b>SparkContext</b></p>\n",
       "\n",
       "            <p><a href=\"http://10.20.30.100:4040\">Spark UI</a></p>\n",
       "\n",
       "            <dl>\n",
       "              <dt>Version</dt>\n",
       "                <dd><code>v3.0.0</code></dd>\n",
       "              <dt>Master</dt>\n",
       "                <dd><code>spark://spark-master:7077</code></dd>\n",
       "              <dt>AppName</dt>\n",
       "                <dd><code>homework3</code></dd>\n",
       "            </dl>\n",
       "        </div>\n",
       "        \n",
       "            </div>\n",
       "        "
      ],
      "text/plain": [
       "<pyspark.sql.session.SparkSession at 0x7f2ca12b0520>"
      ]
     },
     "execution_count": 3,
     "metadata": {},
     "output_type": "execute_result"
    }
   ],
   "source": [
    "spark = SparkSession.builder.appName(\"homework3\").master(\"spark://spark-master:7077\").config(\"fs.defaultFS\",\"hdfs://namenode:9000/\").getOrCreate()\n",
    "spark"
   ]
  },
  {
   "cell_type": "markdown",
   "id": "c3a168fc",
   "metadata": {},
   "source": [
    "\n",
    "<div align=\"right\" dir=\"auto\">\n",
    "   \n",
    "#  خواندن داده \n",
    "\n",
    "    :در اسپارک ما ساختارهای مختلفی برای کار با داده و پخش شدن آن‌ها در شبکه داریم که به ۳ دسته تقسیم بندی میشوند \n",
    "+ RDD\n",
    "+ Dataset\n",
    "+ DataFrame\n",
    "    \n",
    "    \n",
    "     برای مطالعه بیشتر به لینک زیر مراجعه کنید:\n",
    "[rdd-vs-dataframe-vs-dataset](https://phoenixnap.com/kb/rdd-vs-dataframe-vs-dataset)\n",
    "\n",
    "    ما در درس با ساختار RDD آشنا شدیم حال در این تمرین میخواهیم با ساختار Dataframe آشنا شویم و به کمک آن دیتا را از روی HDFS بخوانیم و روی آن فایل‌ها پردازش انجام دهیم\n",
    " \n",
    " </div>\n",
    "  \n",
    "    "
   ]
  },
  {
   "cell_type": "markdown",
   "id": "92b917c3",
   "metadata": {},
   "source": [
    "- [Spark Cluster Master UI](http://localhost:8080/)\n",
    "- [Application master UI (driver UI)](http://localhost:4040)\n",
    "- [Web Hdfs](http://localhost:9870/explorer.html#/)\n"
   ]
  },
  {
   "cell_type": "markdown",
   "id": "780dbb7a",
   "metadata": {},
   "source": [
    "<div align=\"right\" dir=\"auto\">\n",
    " .در این قسمت دیتاست را لود می‌کنیم \n",
    "</div>"
   ]
  },
  {
   "cell_type": "code",
   "execution_count": 4,
   "id": "293b10e2",
   "metadata": {
    "collapsed": false,
    "jupyter": {
     "outputs_hidden": false
    }
   },
   "outputs": [
    {
     "name": "stderr",
     "output_type": "stream",
     "text": [
      "                                                                                \r"
     ]
    }
   ],
   "source": [
    "War = spark.read.json(f\"/homework3/dataset/War.json\")\n",
    "Weapon = spark.read.json(\"/homework3/dataset/Weapon.json\")"
   ]
  },
  {
   "cell_type": "markdown",
   "id": "0a6bcf45",
   "metadata": {},
   "source": [
    "<div align=\"right\" dir=\"auto\">\n",
    "برای اینکه بتوانیم روی دیتای لود شده به وسیله تابع  spark.sql\n",
    "    کوئری‌های SQL بزنیم\n",
    "    باید دو دیتاست لود شده را به عنوان table\n",
    "    به spark \n",
    "    معرفی کنیم\n",
    "</div>"
   ]
  },
  {
   "cell_type": "code",
   "execution_count": 5,
   "id": "0a793fb6",
   "metadata": {},
   "outputs": [],
   "source": [
    "War.registerTempTable(\"War\")\n",
    "Weapon.registerTempTable(\"Weapon\")\n"
   ]
  },
  {
   "cell_type": "markdown",
   "id": "6b9e4a9c",
   "metadata": {},
   "source": [
    "<div align=\"right\" dir=\"auto\">\n",
    "یک مثال ...\n",
    "</div>"
   ]
  },
  {
   "cell_type": "code",
   "execution_count": 6,
   "id": "fc3531f7",
   "metadata": {},
   "outputs": [
    {
     "name": "stdout",
     "output_type": "stream",
     "text": [
      "+-----------+-------------+--------+-------------+--------------+------------+\n",
      "|  DateOfWar|DurationOfWar|Location|MinorityStart|TargetMinority|      Weapon|\n",
      "+-----------+-------------+--------+-------------+--------------+------------+\n",
      "|73298-04-22|       1005.0|BIEN HOA|          Elf|           Orc|Mirkwood Bow|\n",
      "+-----------+-------------+--------+-------------+--------------+------------+\n",
      "\n"
     ]
    }
   ],
   "source": [
    "spark.sql(\"SELECT * FROM War where DurationOfWar=1005.0 limit 1;\").show()"
   ]
  },
  {
   "cell_type": "code",
   "execution_count": 8,
   "id": "5eea620d",
   "metadata": {},
   "outputs": [
    {
     "name": "stdout",
     "output_type": "stream",
     "text": [
      "+-----------+-------------+------------+-------------+--------------+------------+\n",
      "|  DateOfWar|DurationOfWar|    Location|MinorityStart|TargetMinority|      Weapon|\n",
      "+-----------+-------------+------------+-------------+--------------+------------+\n",
      "|73361-06-05|       1005.0|TAN SON NHUT|          Elf|           Orc|Belthronding|\n",
      "+-----------+-------------+------------+-------------+--------------+------------+\n",
      "\n"
     ]
    }
   ],
   "source": [
    "War.select(\"*\").filter(col(\"DurationOfWar\")==1005.0).limit(1).show()"
   ]
  },
  {
   "cell_type": "markdown",
   "id": "fa3211e5",
   "metadata": {},
   "source": [
    "<div align=\"right\" dir=\"auto\">\n",
    " ده رکورد آخر را نمایش دهید\n",
    "</div>"
   ]
  },
  {
   "cell_type": "code",
   "execution_count": 9,
   "id": "fa6c9095",
   "metadata": {},
   "outputs": [
    {
     "name": "stderr",
     "output_type": "stream",
     "text": [
      "[Stage 6:==================================================>        (6 + 1) / 7]\r"
     ]
    },
    {
     "name": "stdout",
     "output_type": "stream",
     "text": [
      "+-----------+-------------+-------------+-------------+--------------+---------+\n",
      "|  DateOfWar|DurationOfWar|     Location|MinorityStart|TargetMinority|   Weapon|\n",
      "+-----------+-------------+-------------+-------------+--------------+---------+\n",
      "|73365-06-30|       1800.0|NAKHON PHANOM|          Elf|        Nazgul|     null|\n",
      "|73365-06-30|        800.0|NAKHON PHANOM|          Elf|        Nazgul|     null|\n",
      "|73365-06-30|        800.0|      U TAPAO|          Elf|        Nazgul|     null|\n",
      "|73365-06-30|        800.0|NAKHON PHANOM|          Elf|        Nazgul|     null|\n",
      "|73365-06-30|       1800.0|NAKHON PHANOM|          Elf|        Nazgul|     null|\n",
      "|73365-06-30|        800.0|     UDORN AB|          Elf|        Nazgul|     null|\n",
      "|73365-06-30|        800.0|        KORAT|          Elf|        Nazgul|Glamdring|\n",
      "|73365-06-30|        800.0|     UDORN AB|          Elf|        Nazgul|  Andúril|\n",
      "|73365-06-30|        800.0|NAKHON PHANOM|          Elf|        Nazgul|     null|\n",
      "|73365-06-30|        800.0|NAKHON PHANOM|          Elf|        Nazgul|     null|\n",
      "+-----------+-------------+-------------+-------------+--------------+---------+\n",
      "\n"
     ]
    },
    {
     "name": "stderr",
     "output_type": "stream",
     "text": [
      "                                                                                \r"
     ]
    }
   ],
   "source": [
    "spark.sql(\"SELECT * FROM War ORDER BY DateOfWar DESC limit 10;\").show()"
   ]
  },
  {
   "cell_type": "code",
   "execution_count": 8,
   "id": "94d09761",
   "metadata": {},
   "outputs": [
    {
     "name": "stdout",
     "output_type": "stream",
     "text": [
      "+--------------------+------------+\n",
      "|         Description|      Weapon|\n",
      "+--------------------+------------+\n",
      "|Narya has the pow...|       Narya|\n",
      "| Vilya was the st...|       Vilya|\n",
      "|\"Reforged from th...|     Andúril|\n",
      "|\"A sword in The H...|     Orcrist|\n",
      "| Legolas wielded ...|Mirkwood Bow|\n",
      "|Galadriel’s ring ...|       Nenya|\n",
      "|\"A sword in The H...|   Glamdring|\n",
      "|A sword wielded b...|    Aranrúth|\n",
      "|The Ring was a si...| Master Ring|\n",
      "|A knife in The Ho...|       Sting|\n",
      "+--------------------+------------+\n",
      "\n"
     ]
    }
   ],
   "source": [
    "spark.sql(\"SELECT * FROM Weapon limit 10;\").show()"
   ]
  },
  {
   "cell_type": "markdown",
   "id": "8e86af39",
   "metadata": {},
   "source": [
    "<div align=\"right\" dir=\"auto\">\n",
    "اسکیما یا ساختار دیتاست ها را نمایش دهید\n",
    "\n",
    "</div>"
   ]
  },
  {
   "cell_type": "code",
   "execution_count": 10,
   "id": "6248d29c",
   "metadata": {},
   "outputs": [
    {
     "name": "stdout",
     "output_type": "stream",
     "text": [
      "root\n",
      " |-- DateOfWar: string (nullable = true)\n",
      " |-- DurationOfWar: double (nullable = true)\n",
      " |-- Location: string (nullable = true)\n",
      " |-- MinorityStart: string (nullable = true)\n",
      " |-- TargetMinority: string (nullable = true)\n",
      " |-- Weapon: string (nullable = true)\n",
      "\n",
      "root\n",
      " |-- Description: string (nullable = true)\n",
      " |-- Weapon: string (nullable = true)\n",
      "\n"
     ]
    }
   ],
   "source": [
    "War.printSchema()\n",
    "Weapon.printSchema()"
   ]
  },
  {
   "cell_type": "markdown",
   "id": "911387bb",
   "metadata": {},
   "source": [
    "### Expected\n",
    "![image](expected_answers/1.png)"
   ]
  },
  {
   "cell_type": "markdown",
   "id": "1bc4746d",
   "metadata": {},
   "source": [
    "\n",
    "<div align=\"right\" dir=\"auto\">\n",
    "   \n",
    "#  اسپارک SQL \n",
    "\n",
    "    مهمترین قابلیت اسپارک این است که می‌تواند با خواندن فایل‌ها به صورت توزیع شده روی آن‌ها پردازش انجام دهد و این پردازش را برنامه ‌نویس میتواند با استفاده از دستورات SQL اعمال کند\n",
    "    در این بخش از شما انتظار می‌رود که به وسیله spark SQL  به اسپارک کوئری  بزنید . \n",
    "    \n",
    "    \n",
    " </div>\n",
    "\n",
    "[pyspark.sql.functions.col](https://spark.apache.org/docs/latest/api/python/reference/pyspark.sql/api/pyspark.sql.functions.col.html)\n",
    "\n",
    "[pyspark.sql.DataFrame.count](https://spark.apache.org/docs/latest/api/python/reference/pyspark.sql/api/pyspark.sql.DataFrame.count.html)\n",
    "\n",
    "[pyspark.sql.DataFrame.filter](https://spark.apache.org/docs/latest/api/python/reference/pyspark.sql/api/pyspark.sql.DataFrame.filter.html)\n",
    "\n",
    "[pyspark.sql.DataFrame.groupBy](https://spark.apache.org/docs/3.1.1/api/python/reference/api/pyspark.sql.DataFrame.groupBy.html)"
   ]
  },
  {
   "cell_type": "markdown",
   "id": "88a14298",
   "metadata": {},
   "source": [
    "<div align=\"right\" dir=\"auto\">\n",
    " چه تعداد نبرد در کل این دوران‌ها انجام شده است؟\n",
    "</div>"
   ]
  },
  {
   "cell_type": "code",
   "execution_count": 11,
   "id": "1a45d1dd",
   "metadata": {
    "collapsed": false,
    "jupyter": {
     "outputs_hidden": false
    }
   },
   "outputs": [
    {
     "name": "stderr",
     "output_type": "stream",
     "text": [
      "                                                                                \r"
     ]
    },
    {
     "data": {
      "text/plain": [
       "4400775"
      ]
     },
     "execution_count": 11,
     "metadata": {},
     "output_type": "execute_result"
    }
   ],
   "source": [
    "War.count()"
   ]
  },
  {
   "cell_type": "markdown",
   "id": "9746b75a",
   "metadata": {},
   "source": [
    "### Expected\n",
    "![image](expected_answers/2.png)"
   ]
  },
  {
   "cell_type": "markdown",
   "id": "1cd9ffb0",
   "metadata": {},
   "source": [
    "<div align=\"right\" dir=\"auto\">\n",
    "هر نژاد در چه تعدادی نبرد مشارکت داشته اند  به صورت مرتب شده نمایش دهبد؟\n",
    "</div>"
   ]
  },
  {
   "cell_type": "code",
   "execution_count": 11,
   "id": "96fa1b79",
   "metadata": {},
   "outputs": [
    {
     "name": "stderr",
     "output_type": "stream",
     "text": [
      "[Stage 12:=================================================>        (6 + 1) / 7]\r"
     ]
    },
    {
     "name": "stdout",
     "output_type": "stream",
     "text": [
      "+-------------+-------+\n",
      "|MinorityStart|  count|\n",
      "+-------------+-------+\n",
      "|          Elf|3708997|\n",
      "|          Orc| 622013|\n",
      "|       Goblin|  32777|\n",
      "|        Dwarf|  24469|\n",
      "|       Hobbit|  12519|\n",
      "+-------------+-------+\n",
      "\n"
     ]
    },
    {
     "name": "stderr",
     "output_type": "stream",
     "text": [
      "                                                                                \r"
     ]
    }
   ],
   "source": [
    "War.groupBy('MinorityStart').count().sort('count', ascending=False).show()"
   ]
  },
  {
   "cell_type": "code",
   "execution_count": 17,
   "id": "c6216cb2",
   "metadata": {},
   "outputs": [
    {
     "name": "stderr",
     "output_type": "stream",
     "text": [
      "                                                                                \r"
     ]
    },
    {
     "data": {
      "text/html": [
       "<div>\n",
       "<style scoped>\n",
       "    .dataframe tbody tr th:only-of-type {\n",
       "        vertical-align: middle;\n",
       "    }\n",
       "\n",
       "    .dataframe tbody tr th {\n",
       "        vertical-align: top;\n",
       "    }\n",
       "\n",
       "    .dataframe thead th {\n",
       "        text-align: right;\n",
       "    }\n",
       "</style>\n",
       "<table border=\"1\" class=\"dataframe\">\n",
       "  <thead>\n",
       "    <tr style=\"text-align: right;\">\n",
       "      <th></th>\n",
       "      <th>MinorityStart</th>\n",
       "      <th>count</th>\n",
       "    </tr>\n",
       "  </thead>\n",
       "  <tbody>\n",
       "    <tr>\n",
       "      <th>0</th>\n",
       "      <td>Elf</td>\n",
       "      <td>3708997</td>\n",
       "    </tr>\n",
       "    <tr>\n",
       "      <th>1</th>\n",
       "      <td>Orc</td>\n",
       "      <td>622013</td>\n",
       "    </tr>\n",
       "    <tr>\n",
       "      <th>2</th>\n",
       "      <td>Goblin</td>\n",
       "      <td>32777</td>\n",
       "    </tr>\n",
       "    <tr>\n",
       "      <th>3</th>\n",
       "      <td>Dwarf</td>\n",
       "      <td>24469</td>\n",
       "    </tr>\n",
       "    <tr>\n",
       "      <th>4</th>\n",
       "      <td>Hobbit</td>\n",
       "      <td>12519</td>\n",
       "    </tr>\n",
       "  </tbody>\n",
       "</table>\n",
       "</div>"
      ],
      "text/plain": [
       "  MinorityStart    count\n",
       "0           Elf  3708997\n",
       "1           Orc   622013\n",
       "2        Goblin    32777\n",
       "3         Dwarf    24469\n",
       "4        Hobbit    12519"
      ]
     },
     "execution_count": 17,
     "metadata": {},
     "output_type": "execute_result"
    }
   ],
   "source": [
    "War.groupBy('MinorityStart').count().sort('count', ascending=False).toPandas()"
   ]
  },
  {
   "cell_type": "markdown",
   "id": "df7ee6ec",
   "metadata": {},
   "source": [
    "### Expected\n",
    "![image](expected_answers/3.png)"
   ]
  },
  {
   "cell_type": "markdown",
   "id": "67c97828",
   "metadata": {},
   "source": [
    "\n",
    "<div align=\"right\" dir=\"auto\">\n",
    "   \n",
    "#  اسپارک toPandas \n",
    "\n",
    "    یکی ار قابلیت‌های اسپارک این است که می‌توان dataframe های آن را به \n",
    "    dataframe های pandas تبدیل کند و از توابع آن از جمله\n",
    "    توابع plot  آن برای رسم نمودار استفاده کرد.\n",
    "    در این قسمت از شما انتظار می‌رود نمودار تعداد جنگ‌ها بر اساس هر گونه را رسم کنید.\n",
    "    \n",
    " </div>\n",
    "  \n",
    "    \n",
    "\n",
    "  \n",
    "[pyspark.sql.DataFrame.toPandas](https://spark.apache.org/docs/latest/api/python/reference/pyspark.sql/api/pyspark.sql.DataFrame.toPandas.html)\n",
    "\n",
    "[pyspark.pandas.DataFrame.plot](https://spark.apache.org/docs/3.2.1/api/python/reference/pyspark.pandas/api/pyspark.pandas.DataFrame.plot.html)\n"
   ]
  },
  {
   "cell_type": "code",
   "execution_count": 13,
   "id": "58e8ae32",
   "metadata": {},
   "outputs": [
    {
     "name": "stderr",
     "output_type": "stream",
     "text": [
      "                                                                                \r"
     ]
    },
    {
     "data": {
      "text/plain": [
       "<AxesSubplot: xlabel='MinorityStart'>"
      ]
     },
     "execution_count": 13,
     "metadata": {},
     "output_type": "execute_result"
    },
    {
     "data": {
      "image/png": "[encoded data removed]",
      "text/plain": [
       "<Figure size 640x480 with 1 Axes>"
      ]
     },
     "metadata": {},
     "output_type": "display_data"
    }
   ],
   "source": [
    "war_df = War.groupBy('MinorityStart').count().sort('count', ascending=False).toPandas()\n",
    "war_df.plot.bar(x='MinorityStart', y='count' ,log=True)"
   ]
  },
  {
   "cell_type": "markdown",
   "id": "3bde3537",
   "metadata": {},
   "source": [
    "### Expected\n",
    "![image](expected_answers/plotlib.png)"
   ]
  },
  {
   "cell_type": "markdown",
   "id": "be607969",
   "metadata": {},
   "source": [
    "<div align=\"right\" dir=\"auto\">\n",
    "چه تعداد نبردهایی بر اساس زمان انجام شده بر اساس زمان مرتب کنید\n",
    "</div>"
   ]
  },
  {
   "cell_type": "code",
   "execution_count": 15,
   "id": "f0a2773a",
   "metadata": {},
   "outputs": [
    {
     "name": "stderr",
     "output_type": "stream",
     "text": [
      "                                                                                \r"
     ]
    },
    {
     "data": {
      "text/html": [
       "<div>\n",
       "<style scoped>\n",
       "    .dataframe tbody tr th:only-of-type {\n",
       "        vertical-align: middle;\n",
       "    }\n",
       "\n",
       "    .dataframe tbody tr th {\n",
       "        vertical-align: top;\n",
       "    }\n",
       "\n",
       "    .dataframe thead th {\n",
       "        text-align: right;\n",
       "    }\n",
       "</style>\n",
       "<table border=\"1\" class=\"dataframe\">\n",
       "  <thead>\n",
       "    <tr style=\"text-align: right;\">\n",
       "      <th></th>\n",
       "      <th>DateOfWar</th>\n",
       "      <th>count</th>\n",
       "    </tr>\n",
       "  </thead>\n",
       "  <tbody>\n",
       "    <tr>\n",
       "      <th>0</th>\n",
       "      <td>73295-10-01</td>\n",
       "      <td>447</td>\n",
       "    </tr>\n",
       "    <tr>\n",
       "      <th>1</th>\n",
       "      <td>73295-10-02</td>\n",
       "      <td>652</td>\n",
       "    </tr>\n",
       "    <tr>\n",
       "      <th>2</th>\n",
       "      <td>73295-10-03</td>\n",
       "      <td>608</td>\n",
       "    </tr>\n",
       "    <tr>\n",
       "      <th>3</th>\n",
       "      <td>73295-10-04</td>\n",
       "      <td>532</td>\n",
       "    </tr>\n",
       "    <tr>\n",
       "      <th>4</th>\n",
       "      <td>73295-10-05</td>\n",
       "      <td>769</td>\n",
       "    </tr>\n",
       "    <tr>\n",
       "      <th>...</th>\n",
       "      <td>...</td>\n",
       "      <td>...</td>\n",
       "    </tr>\n",
       "    <tr>\n",
       "      <th>3555</th>\n",
       "      <td>73365-06-26</td>\n",
       "      <td>25</td>\n",
       "    </tr>\n",
       "    <tr>\n",
       "      <th>3556</th>\n",
       "      <td>73365-06-27</td>\n",
       "      <td>30</td>\n",
       "    </tr>\n",
       "    <tr>\n",
       "      <th>3557</th>\n",
       "      <td>73365-06-28</td>\n",
       "      <td>22</td>\n",
       "    </tr>\n",
       "    <tr>\n",
       "      <th>3558</th>\n",
       "      <td>73365-06-29</td>\n",
       "      <td>15</td>\n",
       "    </tr>\n",
       "    <tr>\n",
       "      <th>3559</th>\n",
       "      <td>73365-06-30</td>\n",
       "      <td>17</td>\n",
       "    </tr>\n",
       "  </tbody>\n",
       "</table>\n",
       "<p>3560 rows × 2 columns</p>\n",
       "</div>"
      ],
      "text/plain": [
       "        DateOfWar  count\n",
       "0     73295-10-01    447\n",
       "1     73295-10-02    652\n",
       "2     73295-10-03    608\n",
       "3     73295-10-04    532\n",
       "4     73295-10-05    769\n",
       "...           ...    ...\n",
       "3555  73365-06-26     25\n",
       "3556  73365-06-27     30\n",
       "3557  73365-06-28     22\n",
       "3558  73365-06-29     15\n",
       "3559  73365-06-30     17\n",
       "\n",
       "[3560 rows x 2 columns]"
      ]
     },
     "execution_count": 15,
     "metadata": {},
     "output_type": "execute_result"
    }
   ],
   "source": [
    "War.groupBy('DateOfWar').count().sort('DateOfWar', ascending=True).toPandas()"
   ]
  },
  {
   "cell_type": "code",
   "execution_count": 16,
   "id": "dbd61d3e",
   "metadata": {},
   "outputs": [
    {
     "name": "stderr",
     "output_type": "stream",
     "text": [
      "[Stage 29:=================================================>        (6 + 1) / 7]\r"
     ]
    },
    {
     "name": "stdout",
     "output_type": "stream",
     "text": [
      "+-----------+-----+\n",
      "|  DateOfWar|count|\n",
      "+-----------+-----+\n",
      "|73295-10-01|  447|\n",
      "|73295-10-02|  652|\n",
      "|73295-10-03|  608|\n",
      "|73295-10-04|  532|\n",
      "|73295-10-05|  769|\n",
      "|73295-10-06|  738|\n",
      "|73295-10-07|  655|\n",
      "|73295-10-08|  764|\n",
      "|73295-10-09|  746|\n",
      "|73295-10-10|  848|\n",
      "|73295-10-11|  503|\n",
      "|73295-10-12|  511|\n",
      "|73295-10-13|  395|\n",
      "|73295-10-14|  469|\n",
      "|73295-10-15|  492|\n",
      "|73295-10-16|  533|\n",
      "|73295-10-17|  381|\n",
      "|73295-10-18|  529|\n",
      "|73295-10-19|  649|\n",
      "|73295-10-20|  624|\n",
      "+-----------+-----+\n",
      "only showing top 20 rows\n",
      "\n"
     ]
    },
    {
     "name": "stderr",
     "output_type": "stream",
     "text": [
      "                                                                                \r"
     ]
    }
   ],
   "source": [
    "War.groupBy('DateOfWar').count().sort('DateOfWar', ascending=True).show()"
   ]
  },
  {
   "cell_type": "markdown",
   "id": "500bfb43",
   "metadata": {},
   "source": [
    "### Expected\n",
    "![image](expected_answers/date_groupBy.png)"
   ]
  },
  {
   "cell_type": "markdown",
   "id": "f4ab4c89",
   "metadata": {},
   "source": [
    "<div align=\"right\" dir=\"auto\">\n",
    "نژاد \"اورک\" توسط چه نژادی مورد حمله قرار گرفته است ؟\n",
    "</div>"
   ]
  },
  {
   "cell_type": "code",
   "execution_count": 18,
   "id": "e9c88c12",
   "metadata": {},
   "outputs": [
    {
     "name": "stderr",
     "output_type": "stream",
     "text": [
      "                                                                                \r"
     ]
    },
    {
     "data": {
      "text/html": [
       "<div>\n",
       "<style scoped>\n",
       "    .dataframe tbody tr th:only-of-type {\n",
       "        vertical-align: middle;\n",
       "    }\n",
       "\n",
       "    .dataframe tbody tr th {\n",
       "        vertical-align: top;\n",
       "    }\n",
       "\n",
       "    .dataframe thead th {\n",
       "        text-align: right;\n",
       "    }\n",
       "</style>\n",
       "<table border=\"1\" class=\"dataframe\">\n",
       "  <thead>\n",
       "    <tr style=\"text-align: right;\">\n",
       "      <th></th>\n",
       "      <th>MinorityStart</th>\n",
       "    </tr>\n",
       "  </thead>\n",
       "  <tbody>\n",
       "    <tr>\n",
       "      <th>0</th>\n",
       "      <td>Elf</td>\n",
       "    </tr>\n",
       "    <tr>\n",
       "      <th>1</th>\n",
       "      <td>Orc</td>\n",
       "    </tr>\n",
       "    <tr>\n",
       "      <th>2</th>\n",
       "      <td>Hobbit</td>\n",
       "    </tr>\n",
       "    <tr>\n",
       "      <th>3</th>\n",
       "      <td>Dwarf</td>\n",
       "    </tr>\n",
       "  </tbody>\n",
       "</table>\n",
       "</div>"
      ],
      "text/plain": [
       "  MinorityStart\n",
       "0           Elf\n",
       "1           Orc\n",
       "2        Hobbit\n",
       "3         Dwarf"
      ]
     },
     "execution_count": 18,
     "metadata": {},
     "output_type": "execute_result"
    }
   ],
   "source": [
    "War.select('MinorityStart').filter(col(\"TargetMinority\")=='Orc').distinct().toPandas()"
   ]
  },
  {
   "cell_type": "code",
   "execution_count": 19,
   "id": "71e245f2",
   "metadata": {},
   "outputs": [
    {
     "name": "stderr",
     "output_type": "stream",
     "text": [
      "                                                                                \r"
     ]
    },
    {
     "name": "stdout",
     "output_type": "stream",
     "text": [
      "+-------------+\n",
      "|MinorityStart|\n",
      "+-------------+\n",
      "|          Elf|\n",
      "|          Orc|\n",
      "|       Hobbit|\n",
      "|        Dwarf|\n",
      "+-------------+\n",
      "\n"
     ]
    }
   ],
   "source": [
    "War.select('MinorityStart').filter(col(\"TargetMinority\")=='Orc').distinct().show()"
   ]
  },
  {
   "cell_type": "markdown",
   "id": "60861aeb",
   "metadata": {},
   "source": [
    "### Expected\n",
    "![image](expected_answers/orc_target.png)"
   ]
  },
  {
   "cell_type": "markdown",
   "id": "352a69cf",
   "metadata": {},
   "source": [
    "\n",
    "<div align=\"right\" dir=\"auto\">\n",
    "   \n",
    "#  اسپارک Shuffle \n",
    "\n",
    "    Spark SQL shuffle مکانیزمی است برای توزیع مجدد یا پارتیشن بندی مجدد داده ها به طوری که داده ها به طور متفاوت در پارتیشن ها گروه بندی می شوند، بر اساس اندازه داده شما ممکن است نیاز باشد تعداد پارتیشن های RDD/DataFrame را با استفاده از اسپارک کاهش یا افزایش دهید.\n",
    "    برای مثال وقتی روی دو dataframe مختلف که روی شبکه توزیع شده اند\n",
    "    دستور join را میزنیم یک عملیات \n",
    "    shuffling انجام میشود\n",
    "    در این قسمت از شما انتظار می‌رود کوئری جوین زیر را نوشته و اجرا کنید همچنین به  صفحه \n",
    "    application master ui\n",
    "    مراجعه کنید و نحوه shuffleing را گزارش کنید . \n",
    "     و همچنین توضیح دهید DAG scheduler  در اسپارک چیست ؟\n",
    " </div>\n",
    "  \n",
    "    \n",
    "\n",
    "  \n",
    "[shuffling in standalone cluster](https://medium.com/@rachit1arora/apache-spark-shuffle-service-there-are-more-than-one-options-c1a8e098230e)\n",
    "\n"
   ]
  },
  {
   "cell_type": "markdown",
   "id": "b9b976ea",
   "metadata": {},
   "source": [
    "<div align=\"right\" dir=\"auto\">\n",
    "    هر وقت یک Action مانند count روی RDD انجام دهیم، اسپارک یک DAG می‌سازد و به DAG Scheduler ارسال می‌کنه. DAG Scheduler عملیاتی که داریم را به چند تا Stage از Taskها تقسیم می‌کند. یک Stage شامل Taskهایی است که روی پارتیشن داده‌های ورودی تشکیل شده. DAG Scheduler عملگرهای مدنظر را برای اجرا روی دیتا با هم پایپ‌لاین می‌کند. برای مثال خیلی از Mapهایی که میخواهیم روی دیتا بزنیم می‌توانند در یک‌ Single Stage توسط DAG Scheduler زمان‌بندی و برنامه‌ریزی شوند و در آخر نتیجه نهایی DAG Scheduler مجموعه‌ای از Stageها هست.\n",
    "</div>"
   ]
  },
  {
   "cell_type": "markdown",
   "id": "7f98cb38",
   "metadata": {},
   "source": [
    "![images](pictures/p2.png)"
   ]
  },
  {
   "cell_type": "markdown",
   "id": "c5b62983",
   "metadata": {},
   "source": [
    "![images](pictures/p1.png)"
   ]
  },
  {
   "cell_type": "markdown",
   "id": "5f82f3a6",
   "metadata": {},
   "source": [
    "<div align=\"right\" dir=\"auto\">\n",
    "    \n",
    "    بیشترین سلاحی که در این جنگ ها استفاده شده کدام سلاح  بوده است؟.\n",
    "    جزییات این سلاح را از فایل مشخصات سلاح (Weapon) می‌توانید بدست آورید.\n",
    "    فایل مربوط به سلاح ها را بازخوانی کرده و برای نمایش بین دو فایل از join استفاده شود.\n",
    "\n",
    "</div>"
   ]
  },
  {
   "cell_type": "code",
   "execution_count": 21,
   "id": "6b2b018a",
   "metadata": {},
   "outputs": [
    {
     "name": "stderr",
     "output_type": "stream",
     "text": [
      "[Stage 54:=================================================>        (6 + 1) / 7]\r"
     ]
    },
    {
     "name": "stdout",
     "output_type": "stream",
     "text": [
      "+------------+------------+--------------------+\n",
      "|      Weapon|MissionCount|         Description|\n",
      "+------------+------------+--------------------+\n",
      "|     Andúril|      909362|\"Reforged from th...|\n",
      "|       Narya|      451385|Narya has the pow...|\n",
      "|       Vilya|      372975| Vilya was the st...|\n",
      "|     Orcrist|      358498|\"A sword in The H...|\n",
      "|Mirkwood Bow|      267457| Legolas wielded ...|\n",
      "|       Nenya|      242231|Galadriel’s ring ...|\n",
      "|   Glamdring|      165773|\"A sword in The H...|\n",
      "|    Aranrúth|      146543|A sword wielded b...|\n",
      "| Master Ring|      144601|The Ring was a si...|\n",
      "|       Sting|      140410|A knife in The Ho...|\n",
      "|       Grond|       99100|\"The name of the ...|\n",
      "|Dragon-helm |       82219|A helmet owned an...|\n",
      "|      Aeglos|       76525|A spear wielded b...|\n",
      "|    Herugrim|       75058|A sword that belo...|\n",
      "|   Red Arrow|       73843|\"A black-feathere...|\n",
      "|   Anglachel|       71716|A sword forged by...|\n",
      "|    Gúthwinë|       58691|A sword wielded b...|\n",
      "|Belthronding|       52865|A bow wielded by ...|\n",
      "|      Ringil|       50843|A sword wielded b...|\n",
      "|  Dramborleg|       41655|An axe belonging ...|\n",
      "+------------+------------+--------------------+\n",
      "\n"
     ]
    },
    {
     "name": "stderr",
     "output_type": "stream",
     "text": [
      "                                                                                \r"
     ]
    }
   ],
   "source": [
    "p1 = War.join(Weapon,\"Weapon\").groupBy(\"Weapon\").count()\n",
    "p2 = p1.join(Weapon,\"Weapon\").select(\"Weapon\",col(\"count\").alias(\"MissionCount\"),\"Description\")\n",
    "p2.sort('count', ascending=False).show()"
   ]
  },
  {
   "cell_type": "markdown",
   "id": "03319e4a",
   "metadata": {},
   "source": [
    "### Expected\n",
    "![image](expected_answers/most_used_weapons.png)"
   ]
  },
  {
   "cell_type": "markdown",
   "id": "edff3663",
   "metadata": {},
   "source": [
    "     # ToDo\n",
    "     # Refere to Application master UI"
   ]
  },
  {
   "cell_type": "markdown",
   "id": "32f1d98b",
   "metadata": {},
   "source": [
    "\n",
    "<div align=\"right\" dir=\"auto\">\n",
    "   \n",
    "# تابع تعریف شده توسط کاربر(UDF)\n",
    "\n",
    "    یکی از مزایای اسپارک این است که نه تنها برای ما یک زبان SQL فراهم کرده که روی چندین سرور به صورت همزمان پردازش را انجام دهد بلکه \n",
    "    میتوان به زبان‌های مختلف توابعی تعریف کرد که روی  همه executor ها اجرا شود\n",
    "    در این بخش از شما انتظار می‌رود که با نوشتن یک UDF به زبان پایتونی \n",
    "    توضیحات هر اسلحه را به 3 کلمه اول آن کوتاه کنید و بقیه کلمات را حذف کنید و سوتونی به نام short_description را به داده های \n",
    "    Weapon اضافه کنید\n",
    "    \n",
    "    \n",
    " </div>\n",
    " \n",
    "[pyspark.sql.functions.udf](https://spark.apache.org/docs/3.1.3/api/python/reference/api/pyspark.sql.functions.udf.html)\n",
    "\n",
    "[pyspark.sql.DataFrame.withColumn](https://spark.apache.org/docs/3.1.3/api/python/reference/api/pyspark.sql.DataFrame.withColumn.html)\n",
    "\n",
    "    \n",
    "\n"
   ]
  },
  {
   "cell_type": "code",
   "execution_count": 23,
   "id": "b9e8a60c",
   "metadata": {},
   "outputs": [
    {
     "name": "stdout",
     "output_type": "stream",
     "text": [
      "+--------------------+------------+--------------------+\n",
      "|         Description|      Weapon|   short_description|\n",
      "+--------------------+------------+--------------------+\n",
      "|Narya has the pow...|       Narya|      Narya has the |\n",
      "| Vilya was the st...|       Vilya|          Vilya was |\n",
      "|\"Reforged from th...|     Andúril| \"Reforged from the |\n",
      "|\"A sword in The H...|     Orcrist|        \"A sword in |\n",
      "| Legolas wielded ...|Mirkwood Bow|    Legolas wielded |\n",
      "|Galadriel’s ring ...|       Nenya|Galadriel’s ring ...|\n",
      "|\"A sword in The H...|   Glamdring|        \"A sword in |\n",
      "|A sword wielded b...|    Aranrúth|    A sword wielded |\n",
      "|The Ring was a si...| Master Ring|       The Ring was |\n",
      "|A knife in The Ho...|       Sting|         A knife in |\n",
      "|\"The name of the ...|       Grond|       \"The name of |\n",
      "|A helmet owned an...|Dragon-helm |     A helmet owned |\n",
      "|A spear wielded b...|      Aeglos|    A spear wielded |\n",
      "|A sword that belo...|    Herugrim|       A sword that |\n",
      "|\"A black-feathere...|   Red Arrow|\"A black-feathere...|\n",
      "|A sword forged by...|   Anglachel|     A sword forged |\n",
      "|A sword wielded b...|    Gúthwinë|    A sword wielded |\n",
      "|A bow wielded by ...|Belthronding|      A bow wielded |\n",
      "|A sword wielded b...|      Ringil|    A sword wielded |\n",
      "|An axe belonging ...|  Dramborleg|   An axe belonging |\n",
      "+--------------------+------------+--------------------+\n",
      "\n"
     ]
    }
   ],
   "source": [
    "\n",
    "@udf\n",
    "def substring(str):\n",
    "    resStr=\"\"\n",
    "    arr = str.split(\" \")\n",
    "    for x in arr[0:3]:\n",
    "        resStr= resStr + x + \" \"\n",
    "    return resStr\n",
    "    \n",
    "Weapon.withColumn('short_description',substring(\"Description\")).show()"
   ]
  },
  {
   "cell_type": "markdown",
   "id": "b23d8f75",
   "metadata": {},
   "source": [
    "### Expected\n",
    "![image](expected_answers/shortener_udf.png)"
   ]
  },
  {
   "cell_type": "markdown",
   "id": "b3a8553c",
   "metadata": {},
   "source": [
    "\n",
    "<div align=\"right\" dir=\"auto\">\n",
    "   \n",
    "# نوشتن داده و پارتیشنینگ\n",
    "    زمانی که میخواهیم داده های حجیم را به صورت فایل هایی ذخیره کنیم  نمیتوانیم همه داده را در یک فایل بزرگ ذخیره کنیم به چند دلیل :\n",
    "-  ذخیره سازی یک فایل بزرگ باعث ؛تنها نقطه شکست میشود؛ و با حذف آن کل داده از دست میرود\n",
    "- جستجو در این یک فایل بزرگ که مرتب شده نیست دشوار و عملی نیست\n",
    "- آپدیت کردن سخت تر میشود\n",
    "پس تا حدودی حل این میشکل از راه حل های زیر استفاده میکنیم\n",
    "# پارتیشنینگ: \n",
    "-     بر اساس یک فیلد داده هارا دسته بندی میکنیم و در دایرکتوری های مختلف میریزیم این کار را اسپارک برای ما انجام میدهد\n",
    "\n",
    "    \n",
    " </div>\n",
    "  \n",
    "    \n",
    "\n"
   ]
  },
  {
   "cell_type": "markdown",
   "id": "3c9bc8ad",
   "metadata": {},
   "source": [
    "<div align=\"right\" dir=\"rtl\">\n",
    "\n",
    "    در این بخش شما باید یک دیتاست کامل بسازید بدین شکل که دیتاست War و Weapon\n",
    "     را با یکدیگر جوین کنید سپس همه آن رکورد‌هایی که  در توضیحات اسلحه آنها کلمه sword \n",
    "    نیامده است را فیلتر کرده و برا اساس گونه شروع کننده جنگ (MinorityStart) پارتیشن کنید\n",
    "    و روی HDFS\n",
    "      در مسیر /homework3/<student_number>/output/war_without_sword بنویسید\n",
    "    و ۲۰ رکورد اول آن را نمایش دهید\n",
    "    توجه کنید فایل‌های خروجی باید از نوع JSON باشند\n",
    "    \n",
    "    \n",
    "</div>\n",
    "\n",
    "[pyspark.sql.DataFrameWriter.partitionBy](https://spark.apache.org/docs/latest/api/python/reference/pyspark.sql/api/pyspark.sql.DataFrameWriter.partitionBy.html)\n"
   ]
  },
  {
   "cell_type": "code",
   "execution_count": 29,
   "id": "ec7ad676",
   "metadata": {
    "collapsed": false,
    "jupyter": {
     "outputs_hidden": false
    }
   },
   "outputs": [
    {
     "name": "stdout",
     "output_type": "stream",
     "text": [
      "+-----------+-------------+-------------+-------------+--------------+------------+--------------------+\n",
      "|  DateOfWar|DurationOfWar|     Location|MinorityStart|TargetMinority|      Weapon|         Description|\n",
      "+-----------+-------------+-------------+-------------+--------------+------------+--------------------+\n",
      "|73361-06-05|       1005.0| TAN SON NHUT|          Elf|           Orc|Belthronding|A bow wielded by ...|\n",
      "|73362-12-26|        530.0|NAKHON PHANOM|          Elf|           Orc|Belthronding|A bow wielded by ...|\n",
      "|73363-07-28|        730.0|     UDORN AB|          Elf|        Goblin|       Nenya|Galadriel’s ring ...|\n",
      "|73360-10-08|       1240.0|       DANANG|          Orc|           Orc|Mirkwood Bow| Legolas wielded ...|\n",
      "|73362-03-08|       1005.0|  TONKIN GULF|          Elf|        Goblin|       Vilya| Vilya was the st...|\n",
      "|73362-09-12|        710.0| TAN SON NHUT|          Elf|           Orc|Belthronding|A bow wielded by ...|\n",
      "|73361-05-12|       1304.0|  TONKIN GULF|          Elf|        Goblin| Master Ring|The Ring was a si...|\n",
      "|73361-12-19|        230.0|   SAVANAKHET|       Goblin|        Goblin|  Dramborleg|An axe belonging ...|\n",
      "|73362-08-18|          0.0|  TONKIN GULF|          Elf|        Nazgul| Master Ring|The Ring was a si...|\n",
      "|73361-09-20|       1315.0|    BINH THUY|          Orc|           Orc|   Red Arrow|\"A black-feathere...|\n",
      "|73361-12-13|        318.0|     BIEN HOA|          Elf|           Orc|Mirkwood Bow| Legolas wielded ...|\n",
      "|73362-01-08|        850.0|     UDORN AB|          Elf|        Goblin|       Nenya|Galadriel’s ring ...|\n",
      "|73361-02-08|       1518.0|    BINH THUY|          Orc|           Orc|Mirkwood Bow| Legolas wielded ...|\n",
      "|73360-12-08|          0.0|     UDORN AB|          Elf|        Goblin|       Nenya|Galadriel’s ring ...|\n",
      "|73361-06-01|       1410.0| TAN SON NHUT|          Elf|           Orc|      Aeglos|A spear wielded b...|\n",
      "|73361-08-11|        805.0|  TONKIN GULF|          Elf|        Goblin| Master Ring|The Ring was a si...|\n",
      "|73362-05-07|        505.0|        PAKSE|       Goblin|        Goblin|  Dramborleg|An axe belonging ...|\n",
      "|73364-08-01|        304.0|     UDORN AB|          Elf|           Orc|       Nenya|Galadriel’s ring ...|\n",
      "|73362-02-21|       1925.0|      U TAPAO|          Elf|        Goblin|       Grond|\"The name of the ...|\n",
      "|73362-08-03|        515.0|     BIEN HOA|          Elf|           Orc|Mirkwood Bow| Legolas wielded ...|\n",
      "+-----------+-------------+-------------+-------------+--------------+------------+--------------------+\n",
      "only showing top 20 rows\n",
      "\n"
     ]
    },
    {
     "name": "stderr",
     "output_type": "stream",
     "text": [
      "                                                                                \r"
     ]
    }
   ],
   "source": [
    "\n",
    "p1 = Weapon.filter(~Weapon.Description.contains(\"sword\"))\n",
    "p2 = p1.join(War,on='Weapon')\n",
    "p3 = p2.select(\"DateOfWar\", \"DurationOfWar\", \"Location\", \"MinorityStart\", \"TargetMinority\", \"Weapon\", \"Description\")\n",
    "p3.show()\n",
    "\n",
    "p3.write.partitionBy('MinorityStart').json(\"/homework3/9831025_9831108/output/war_without_sword/\")"
   ]
  },
  {
   "cell_type": "markdown",
   "id": "623fd351",
   "metadata": {},
   "source": [
    "### Expected\n",
    "![war without sword](expected_answers/war_without_sword.png)\n",
    "\n",
    "\n"
   ]
  },
  {
   "cell_type": "markdown",
   "id": "3eb76381",
   "metadata": {},
   "source": [
    "<div align=\"right\" dir=\"rtl\">\n",
    "    \n",
    "  ### گزارش HDFS\n",
    "    با مراجعه به HDFS UI\n",
    "    خروجی پارتیشن شده مسیر بالا را مشاهده میکنید\n",
    "     -تعداد دایرکتوری‌های ایجاد شده چندتاست و دلیل آن چیست؟ \n",
    "    -در هر دایرکتوری ایجاد شده چند فایل JSON میبینید و دلیل تعدد این فایل‌ها چیست؟\n",
    "    - چگونه میتوان از اسپارک خواست تا از تعدد این فایل‌ها جلوگیری کند و یک فایل در این مسیر‌ها بریزد؟\n",
    "    - coalesce و repartition  در اسپارک چیستند و کاربر اصلی آنها چیست؟\n",
    "</div>\n",
    "\n"
   ]
  },
  {
   "cell_type": "markdown",
   "id": "d2f3af8d",
   "metadata": {},
   "source": [
    "<div align=”right dir=\"auto\">\n",
    "    1-\n",
    "تعداد دایرکتوری ها به تعداد minority start یعنی 5 تا است . خود ما در قسمتpartition by  همچین انتخابی را انجام داده ایم.\n",
    "</div>"
   ]
  },
  {
   "cell_type": "markdown",
   "id": "e40c7271",
   "metadata": {},
   "source": [
    "![image](pictures/p5.png)"
   ]
  },
  {
   "cell_type": "markdown",
   "id": "0d93326f",
   "metadata": {},
   "source": [
    "<div align=”right dir=\"auto\">\n",
    "    2-\n",
    "در هر دایرکتوری 5 فایل JSON وجود\n",
    "</div>"
   ]
  },
  {
   "cell_type": "markdown",
   "id": "d6f94387",
   "metadata": {},
   "source": [
    "![image](pictures/p6.png)"
   ]
  },
  {
   "cell_type": "markdown",
   "id": "eb14461e",
   "metadata": {},
   "source": [
    "<div align=”right dir=\"auto\">\n",
    "    3-\n",
    "    میتوان از coalesce استفاده کرد تا یک فایل ایجاد کند .\n",
    "</div>"
   ]
  },
  {
   "cell_type": "markdown",
   "id": "3c42349b",
   "metadata": {},
   "source": [
    "\n",
    "<div align=”right dir=\"auto\">\n",
    "\n",
    "    4-\n",
    "در این قسمت Repartition  می تواند برای افزایش یا کاهش تعداد پارتیشن ها در یک DataFrame استفاده شود. پارتیشن مجدد کل عملیات Shuffle است. کل داده ها از پارتیشن های موجود خارج می شوند و به طور مساوی در پارتیشن های تازه تشکیل شده توزیع می شوند. اگر مجموعه داده‌ای را که بارگذاری کرده‌ایم ، شامل داده‌های عظیم و تبدیل‌های زیادی است که به توزیع مساوی از اجراکنندگان نیاز دارند، باید از Repartition استفاده کنیم.\n",
    " وهمچنین  Coalesce تعداد پارتیشن های یک DataFrame را کاهش می دهد. از جابجایی کامل اجتناب می کند. به جای ایجاد پارتیشن‌های جدید، داده‌ها را با استفاده از Hash Partitioner (پیش‌فرض) به هم ریخته و در پارتیشن‌های موجود تنظیم می‌کند. یعنی فقط می تواند تعداد پارتیشن ها را کاهش دهد. هنگامی که همه تبدیل‌ها اعمال شدند، از Coalesce استفاده می¬کنیم تا همه داده‌ها را به جای تعداد زیادی فایل در فایل‌های کمتری (تعداد فایل = تعداد پارتیشن) ذخیره کند.\n",
    "\n",
    "\n",
    "\n",
    "</div>\n",
    "\n"
   ]
  },
  {
   "cell_type": "markdown",
   "id": "d5d2106f",
   "metadata": {},
   "source": [
    "<div align=\"right\" dir=\"rtl\">\n",
    "\n",
    "   ## coalesce\n",
    "    همان تسک بالا را انجام دهید  ولی  سعی کنید در هر دایرکتوری پارتیشن شده تنها یک فایل JSON ریخته شود.\n",
    "    نکته:  در مسیر جدید زیر آن را بنویسید.\n",
    "    /homework3/<student_number>/output/war_without_sword_v2/\n",
    "    \n",
    "    \n",
    "</div>\n",
    "\n",
    "[pyspark.sql.DataFrame.coalesce](https://spark.apache.org/docs/3.1.1/api/python/reference/api/pyspark.sql.DataFrame.coalesce.html)\n"
   ]
  },
  {
   "cell_type": "code",
   "execution_count": 30,
   "id": "bd1132cd",
   "metadata": {},
   "outputs": [
    {
     "name": "stderr",
     "output_type": "stream",
     "text": [
      "                                                                                \r"
     ]
    }
   ],
   "source": [
    "p3.coalesce(1).write.partitionBy(\"MinorityStart\").json(\"/homework3/9831025_9831108/output/war_without_sword_v2/\")"
   ]
  }
 ],
 "metadata": {
  "kernelspec": {
   "display_name": "Python 3 (ipykernel)",
   "language": "python",
   "name": "python3"
  },
  "language_info": {
   "codemirror_mode": {
    "name": "ipython",
    "version": 3
   },
   "file_extension": ".py",
   "mimetype": "text/x-python",
   "name": "python",
   "nbconvert_exporter": "python",
   "pygments_lexer": "ipython3",
   "version": "3.9.2"
  },
  "vscode": {
   "interpreter": {
    "hash": "7ea3f390255f349685dcdd2c209f2f73d775f0f85e9621df23d6abaa67366033"
   }
  }
 },
 "nbformat": 4,
 "nbformat_minor": 5
}
