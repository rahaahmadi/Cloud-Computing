{
 "cells": [
  {
   "cell_type": "code",
   "execution_count": 1,
   "metadata": {},
   "outputs": [],
   "source": [
    "from pyspark.sql import SparkSession\n",
    "from pyspark.ml.recommendation import ALS\n",
    "from pyspark.ml.evaluation import RegressionEvaluator"
   ]
  },
  {
   "cell_type": "code",
   "execution_count": 2,
   "metadata": {},
   "outputs": [],
   "source": [
    "spark = SparkSession \\\n",
    "    .builder \\\n",
    "    .appName(\"collabrative filtering\") \\\n",
    "    .getOrCreate()"
   ]
  },
  {
   "cell_type": "code",
   "execution_count": 3,
   "metadata": {},
   "outputs": [
    {
     "data": {
      "text/plain": [
       "'3.3.1'"
      ]
     },
     "execution_count": 3,
     "metadata": {},
     "output_type": "execute_result"
    }
   ],
   "source": [
    "spark.version"
   ]
  },
  {
   "cell_type": "code",
   "execution_count": 4,
   "metadata": {},
   "outputs": [],
   "source": [
    "game_df = spark.read.csv('games.csv', header=True, inferSchema=True)\n",
    "rate_df = spark.read.csv('ratings.csv', header=True, inferSchema=True)"
   ]
  },
  {
   "cell_type": "code",
   "execution_count": 5,
   "metadata": {},
   "outputs": [
    {
     "name": "stdout",
     "output_type": "stream",
     "text": [
      "+-------+--------------------+------------+--------------------+--------------------+\n",
      "|game_id|                name|release_date|             summary|          meta_score|\n",
      "+-------+--------------------+------------+--------------------+--------------------+\n",
      "|      1|The Legend of Zel...|   23-Nov-98|As a young boy, L...|                  99|\n",
      "|      2|Tony Hawk's Pro S...|   20-Sep-00|As most major pub...|                  98|\n",
      "|      3| Grand Theft Auto IV|   29-Apr-08|\"[Metacritic's 20...| fresh off the bo...|\n",
      "|      4|         SoulCalibur|    8-Sep-99|This is a tale of...|                  98|\n",
      "|      5|  Super Mario Galaxy|   12-Nov-07|[Metacritic's 200...|                  97|\n",
      "|      6|Super Mario Galaxy 2|   23-May-10|Super Mario Galax...|                  97|\n",
      "|      7|Red Dead Redempti...|   26-Oct-18|Developed by the ...|                  97|\n",
      "|      8|  Grand Theft Auto V|   18-Nov-14|Grand Theft Auto ...|                  97|\n",
      "|      9|Disco Elysium: Th...|   30-Mar-21|Disco Elysium - T...|                  97|\n",
      "|     10|The Legend of Zel...|    3-Mar-17|Forget everything...|                  97|\n",
      "|     11|Tony Hawk's Pro S...|   28-Oct-01|Challenge up to f...|                  97|\n",
      "|     12|        Perfect Dark|   22-May-00|Step into the Dar...|                  97|\n",
      "|     13|       Metroid Prime|   17-Nov-02|Samus returns in ...|                  97|\n",
      "|     14|Grand Theft Auto III|   22-Oct-01|Players are put a...|                  97|\n",
      "|     15| Super Mario Odyssey|   27-Oct-17|New Evolution of ...|                  97|\n",
      "|     16|Halo: Combat Evolved|   14-Nov-01|Enter the mysteri...|                  97|\n",
      "|     17|The House in Fata...|    9-Apr-21|A gothic suspense...|                  97|\n",
      "|     18|             NFL 2K1|    7-Sep-00|In the end, NFL 2...|                  97|\n",
      "|     19|         Half-Life 2|   16-Nov-04|[Metacritic's 200...|                  96|\n",
      "|     20|            BioShock|   21-Aug-07|\"[Metacritic's 20...|\"\" \"\"monster-clos...|\n",
      "+-------+--------------------+------------+--------------------+--------------------+\n",
      "only showing top 20 rows\n",
      "\n"
     ]
    }
   ],
   "source": [
    "game_df.show()"
   ]
  },
  {
   "cell_type": "code",
   "execution_count": 6,
   "metadata": {},
   "outputs": [
    {
     "name": "stdout",
     "output_type": "stream",
     "text": [
      "+-------+-------+------+\n",
      "|game_id|user_id|rating|\n",
      "+-------+-------+------+\n",
      "|      1|    314|     5|\n",
      "|      1|    439|     3|\n",
      "|      1|    588|     5|\n",
      "|      1|   1169|     4|\n",
      "|      1|   1185|     4|\n",
      "|      1|   2077|     4|\n",
      "|      1|   2487|     4|\n",
      "|      1|   2900|     5|\n",
      "|      1|   3662|     4|\n",
      "|      1|   3922|     5|\n",
      "|      1|   5379|     5|\n",
      "|      1|   5461|     3|\n",
      "|      1|   5885|     5|\n",
      "|      1|   6630|     5|\n",
      "|      1|   7563|     3|\n",
      "|      1|   9246|     1|\n",
      "|      1|  10140|     4|\n",
      "|      1|  10146|     5|\n",
      "|      1|  10246|     4|\n",
      "|      1|  10335|     4|\n",
      "+-------+-------+------+\n",
      "only showing top 20 rows\n",
      "\n"
     ]
    }
   ],
   "source": [
    "rate_df.show()"
   ]
  },
  {
   "cell_type": "code",
   "execution_count": 7,
   "metadata": {},
   "outputs": [
    {
     "name": "stderr",
     "output_type": "stream",
     "text": [
      "C:\\Users\\mjraj\\AppData\\Local\\Packages\\PythonSoftwareFoundation.Python.3.9_qbz5n2kfra8p0\\LocalCache\\local-packages\\Python39\\site-packages\\pyspark\\sql\\dataframe.py:229: FutureWarning: Deprecated in 2.0, use createOrReplaceTempView instead.\n",
      "  warnings.warn(\"Deprecated in 2.0, use createOrReplaceTempView instead.\", FutureWarning)\n"
     ]
    }
   ],
   "source": [
    "rate_df.registerTempTable(\"ratings\")\n",
    "game_df.registerTempTable(\"games\")"
   ]
  },
  {
   "cell_type": "code",
   "execution_count": 8,
   "metadata": {},
   "outputs": [
    {
     "data": {
      "text/plain": [
       "DataFrame[summary: string, game_id: string, user_id: string, rating: string]"
      ]
     },
     "execution_count": 8,
     "metadata": {},
     "output_type": "execute_result"
    }
   ],
   "source": [
    "rate_df.describe()"
   ]
  },
  {
   "cell_type": "code",
   "execution_count": 9,
   "metadata": {},
   "outputs": [],
   "source": [
    "(train, test) = rate_df.randomSplit([0.7, 0.3], seed=42)"
   ]
  },
  {
   "cell_type": "code",
   "execution_count": 34,
   "metadata": {},
   "outputs": [
    {
     "data": {
      "text/plain": [
       "ALS_80d2d0327da1"
      ]
     },
     "execution_count": 34,
     "metadata": {},
     "output_type": "execute_result"
    }
   ],
   "source": [
    "als = ALS(maxIter=5, regParam=0.01, userCol='user_id',itemCol='game_id', ratingCol='rating')\n",
    "als.setColdStartStrategy('drop')"
   ]
  },
  {
   "cell_type": "code",
   "execution_count": 35,
   "metadata": {},
   "outputs": [],
   "source": [
    "model = als.fit(train)"
   ]
  },
  {
   "cell_type": "code",
   "execution_count": 36,
   "metadata": {},
   "outputs": [],
   "source": [
    "pred = model.transform(test)"
   ]
  },
  {
   "cell_type": "code",
   "execution_count": 37,
   "metadata": {},
   "outputs": [
    {
     "name": "stdout",
     "output_type": "stream",
     "text": [
      "+-------+-------+------+----------+\n",
      "|game_id|user_id|rating|prediction|\n",
      "+-------+-------+------+----------+\n",
      "|    463|  32592|     5| 4.4580426|\n",
      "|   1580|   3918|     4|  2.595739|\n",
      "|   1591|  35982|     5|  3.674078|\n",
      "|   1829|  39285|     4| 4.8084574|\n",
      "|   1829|  44822|     5| 4.4008255|\n",
      "|   2122|  25591|     3| 3.7442565|\n",
      "|   2866|  49331|     5|  4.914663|\n",
      "|    463|  46147|     5|  5.724244|\n",
      "|   2866|  17172|     3| 3.2400088|\n",
      "|   2142|   1339|     4| 2.9931293|\n",
      "|   2142|  19526|     5| 4.3795586|\n",
      "|   1342|  33337|     3| 3.6251206|\n",
      "|   1342|  33337|     4| 3.6251206|\n",
      "|   2366|  32832|     5|  4.872513|\n",
      "|    833|  28343|     3|  3.285513|\n",
      "|   1238|  10527|     3| 3.5316963|\n",
      "|   1829|  27361|     2|  2.705662|\n",
      "|   1580|    588|     3|  3.827312|\n",
      "|   1591|  43689|     4|  5.320927|\n",
      "|   1088|  49202|     2|  2.582635|\n",
      "+-------+-------+------+----------+\n",
      "only showing top 20 rows\n",
      "\n"
     ]
    }
   ],
   "source": [
    "pred.show()"
   ]
  },
  {
   "cell_type": "code",
   "execution_count": 38,
   "metadata": {},
   "outputs": [],
   "source": [
    "eval = RegressionEvaluator(metricName=\"rmse\", labelCol='rating', predictionCol='prediction')"
   ]
  },
  {
   "cell_type": "code",
   "execution_count": 39,
   "metadata": {},
   "outputs": [
    {
     "name": "stdout",
     "output_type": "stream",
     "text": [
      "RMSE: 2.1799436088153237\n"
     ]
    }
   ],
   "source": [
    "rmse = eval.evaluate(pred)\n",
    "print(f'RMSE: {rmse}')"
   ]
  },
  {
   "cell_type": "code",
   "execution_count": 40,
   "metadata": {},
   "outputs": [],
   "source": [
    "user_id = 564\n",
    "myuser = test.filter(test['user_id'] == user_id).select(['game_id', 'user_id'])"
   ]
  },
  {
   "cell_type": "code",
   "execution_count": 41,
   "metadata": {},
   "outputs": [
    {
     "name": "stdout",
     "output_type": "stream",
     "text": [
      "+-------+-------+\n",
      "|game_id|user_id|\n",
      "+-------+-------+\n",
      "|   3187|    564|\n",
      "|   3911|    564|\n",
      "|   5237|    564|\n",
      "|   5456|    564|\n",
      "|   7266|    564|\n",
      "|   8782|    564|\n",
      "|   9645|    564|\n",
      "|   9689|    564|\n",
      "+-------+-------+\n",
      "\n"
     ]
    }
   ],
   "source": [
    "myuser.show()"
   ]
  },
  {
   "cell_type": "code",
   "execution_count": 42,
   "metadata": {},
   "outputs": [],
   "source": [
    "rec = model.transform(myuser)"
   ]
  },
  {
   "cell_type": "code",
   "execution_count": 33,
   "metadata": {},
   "outputs": [
    {
     "name": "stdout",
     "output_type": "stream",
     "text": [
      "+-------+-------+------------+\n",
      "|game_id|user_id|  prediction|\n",
      "+-------+-------+------------+\n",
      "|   3911|    564|   4.6399097|\n",
      "|   9689|    564|   3.7790594|\n",
      "|   9645|    564|    3.499237|\n",
      "|   7266|    564|   3.1608658|\n",
      "|   8782|    564|   2.7031126|\n",
      "|   5456|    564|   2.2260807|\n",
      "|   3187|    564|   1.9552112|\n",
      "|   5237|    564|-0.074302256|\n",
      "+-------+-------+------------+\n",
      "\n"
     ]
    }
   ],
   "source": [
    "rec.orderBy('prediction', ascending=False).show()"
   ]
  }
 ],
 "metadata": {
  "kernelspec": {
   "display_name": "Python 3",
   "language": "python",
   "name": "python3"
  },
  "language_info": {
   "codemirror_mode": {
    "name": "ipython",
    "version": 3
   },
   "file_extension": ".py",
   "mimetype": "text/x-python",
   "name": "python",
   "nbconvert_exporter": "python",
   "pygments_lexer": "ipython3",
   "version": "3.9.13"
  },
  "orig_nbformat": 4,
  "vscode": {
   "interpreter": {
    "hash": "7ea3f390255f349685dcdd2c209f2f73d775f0f85e9621df23d6abaa67366033"
   }
  }
 },
 "nbformat": 4,
 "nbformat_minor": 2
}
